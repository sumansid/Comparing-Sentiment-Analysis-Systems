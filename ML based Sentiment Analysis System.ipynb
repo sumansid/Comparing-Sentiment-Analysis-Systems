{
 "cells": [
  {
   "cell_type": "markdown",
   "metadata": {},
   "source": [
    "# ML Based Sentiment Analysis"
   ]
  },
  {
   "cell_type": "markdown",
   "metadata": {},
   "source": [
    "## Imports"
   ]
  },
  {
   "cell_type": "code",
   "execution_count": 2,
   "metadata": {},
   "outputs": [],
   "source": [
    "import nltk\n"
   ]
  },
  {
   "cell_type": "markdown",
   "metadata": {},
   "source": [
    "# file paths"
   ]
  },
  {
   "cell_type": "code",
   "execution_count": 3,
   "metadata": {},
   "outputs": [],
   "source": [
    "pos_reviews_path = \"rt-polaritydata/rt-polaritydata/rt-polarity.pos\"\n",
    "neg_reviews_path = \"rt-polaritydata/rt-polaritydata/rt-polarity.neg\""
   ]
  },
  {
   "cell_type": "markdown",
   "metadata": {},
   "source": [
    "### Constants"
   ]
  },
  {
   "cell_type": "code",
   "execution_count": 6,
   "metadata": {},
   "outputs": [],
   "source": [
    "split_index = 2500"
   ]
  },
  {
   "cell_type": "markdown",
   "metadata": {},
   "source": [
    "## Opening and reading lines"
   ]
  },
  {
   "cell_type": "code",
   "execution_count": 4,
   "metadata": {},
   "outputs": [],
   "source": [
    "with open(pos_reviews_path, 'r', encoding='latin-1') as pos_file :\n",
    "    pos_reviews = pos_file.readlines()"
   ]
  },
  {
   "cell_type": "code",
   "execution_count": 5,
   "metadata": {},
   "outputs": [],
   "source": [
    "with open(neg_reviews_path, 'r', encoding='latin-1') as neg_file :\n",
    "    neg_reviews = neg_file.readlines()"
   ]
  },
  {
   "cell_type": "markdown",
   "metadata": {},
   "source": [
    "### Using Naive Bayes from NLTK "
   ]
  },
  {
   "cell_type": "code",
   "execution_count": 8,
   "metadata": {},
   "outputs": [],
   "source": [
    "test_negative_reviews = neg_reviews[split_index+1:]\n",
    "test_positive_reviews = pos_reviews[split_index+1:]\n",
    "training_negative_reviews = neg_reviews[:split_index]\n",
    "training_positive_reviews = pos_reviews[:split_index]"
   ]
  },
  {
   "cell_type": "code",
   "execution_count": 9,
   "metadata": {},
   "outputs": [],
   "source": [
    "def get_vocabulary() :\n",
    "    pos_word_list = [word for line in training_positive_reviews for word in line.split()]\n",
    "    neg_word_list = [word for line in training_negative_reviews for word in line.split()]\n",
    "    all_word_list = [item for sublist in [pos_word_list, neg_word_list] for item in sublist]\n",
    "    all_word_set = list(set(all_word_list))\n",
    "    vocabulary = all_word_set\n",
    "    return vocabulary\n",
    "    "
   ]
  },
  {
   "cell_type": "code",
   "execution_count": 10,
   "metadata": {},
   "outputs": [],
   "source": [
    "vocabulary = get_vocabulary()"
   ]
  },
  {
   "cell_type": "code",
   "execution_count": 13,
   "metadata": {},
   "outputs": [
    {
     "data": {
      "text/plain": [
       "14094"
      ]
     },
     "execution_count": 13,
     "metadata": {},
     "output_type": "execute_result"
    }
   ],
   "source": [
    "len(vocabulary)"
   ]
  },
  {
   "cell_type": "code",
   "execution_count": 18,
   "metadata": {},
   "outputs": [],
   "source": [
    "def get_training_data():\n",
    "    neg_train_tagged_list = [{'review': one_review.split(), 'label' : 'negative'} for one_review in training_negative_reviews]\n",
    "    pos_train_tagged_list = [{'review': one_review.split(), 'label' : 'positive'} for one_review in training_positive_reviews]\n",
    "    full_tagged_list = [item for sublist in [neg_train_tagged_list, pos_train_tagged_list] for item in sublist]\n",
    "    training_data = [(review['review'],review['label']) for review in full_tagged_list]\n",
    "    return training_data\n",
    "    "
   ]
  },
  {
   "cell_type": "code",
   "execution_count": 19,
   "metadata": {},
   "outputs": [],
   "source": [
    "training_data = get_training_data()"
   ]
  },
  {
   "cell_type": "code",
   "execution_count": 20,
   "metadata": {},
   "outputs": [
    {
     "data": {
      "text/plain": [
       "(['simplistic', ',', 'silly', 'and', 'tedious', '.'], 'negative')"
      ]
     },
     "execution_count": 20,
     "metadata": {},
     "output_type": "execute_result"
    }
   ],
   "source": [
    "training_data[0]"
   ]
  },
  {
   "cell_type": "code",
   "execution_count": 21,
   "metadata": {},
   "outputs": [
    {
     "data": {
      "text/plain": [
       "5000"
      ]
     },
     "execution_count": 21,
     "metadata": {},
     "output_type": "execute_result"
    }
   ],
   "source": [
    "len(training_data)"
   ]
  },
  {
   "cell_type": "markdown",
   "metadata": {},
   "source": [
    "### Feature Extraction "
   ]
  },
  {
   "cell_type": "code",
   "execution_count": 25,
   "metadata": {},
   "outputs": [],
   "source": [
    "def extract_features(review):\n",
    "    review_words = set(review)\n",
    "    features = {}\n",
    "    for word in vocabulary :\n",
    "        features[word] = (word in review_words)\n",
    "    return features\n",
    "        "
   ]
  },
  {
   "cell_type": "markdown",
   "metadata": {},
   "source": [
    "### Using the Naive Bayes Classifier"
   ]
  },
  {
   "cell_type": "code",
   "execution_count": 26,
   "metadata": {},
   "outputs": [],
   "source": [
    "def get_trained_naive_bayes_classifier(extract_features, training_data):\n",
    "    training_features = nltk.classify.apply_features(extract_features, training_data)\n",
    "    trained_nb_classifier = nltk.NaiveBayesClassifier.train(training_features)\n",
    "    return trained_nb_classifier\n"
   ]
  },
  {
   "cell_type": "code",
   "execution_count": 27,
   "metadata": {},
   "outputs": [],
   "source": [
    "trained_nb_classifier = get_trained_naive_bayes_classifier(extract_features, training_data)\n"
   ]
  },
  {
   "cell_type": "code",
   "execution_count": 28,
   "metadata": {},
   "outputs": [],
   "source": [
    "def naive_bayes_sentiment_calculator(review):\n",
    "    test_instance = review.split()\n",
    "    test_features = extract_features(test_instance)\n",
    "    return trained_nb_classifier.classify(test_features)"
   ]
  },
  {
   "cell_type": "markdown",
   "metadata": {},
   "source": [
    "## Testing the Naive Bayes Sentiment Calculator"
   ]
  },
  {
   "cell_type": "code",
   "execution_count": 30,
   "metadata": {},
   "outputs": [
    {
     "data": {
      "text/plain": [
       "'positive'"
      ]
     },
     "execution_count": 30,
     "metadata": {},
     "output_type": "execute_result"
    }
   ],
   "source": [
    "naive_bayes_sentiment_calculator(\"What an amazing movie\")"
   ]
  },
  {
   "cell_type": "code",
   "execution_count": 33,
   "metadata": {},
   "outputs": [
    {
     "data": {
      "text/plain": [
       "'negative'"
      ]
     },
     "execution_count": 33,
     "metadata": {},
     "output_type": "execute_result"
    }
   ],
   "source": [
    "naive_bayes_sentiment_calculator(\"I hated that movie \")"
   ]
  },
  {
   "cell_type": "code",
   "execution_count": 34,
   "metadata": {},
   "outputs": [],
   "source": [
    "def get_review_sentiment(senti_calculator):\n",
    "    neg_reviews_result = [senti_calculator(review) for review in test_negative_reviews]\n",
    "    pos_reviews_result = [senti_calculator(review) for review in test_positive_reviews]\n",
    "    label_to_num = {'positive' : 1, 'negative' : -1}\n",
    "    neg_results_score = [label_to_num[x] for x in neg_reviews_result]\n",
    "    pos_results_score = [label_to_num[x] for x in pos_reviews_result]\n",
    "    return {'results-on-positive' : pos_results_score, 'results-on-negative' : neg_results_score}\n",
    "    "
   ]
  },
  {
   "cell_type": "code",
   "execution_count": 37,
   "metadata": {},
   "outputs": [],
   "source": [
    "naive_bayes_results = get_review_sentiment(naive_bayes_sentiment_calculator)"
   ]
  },
  {
   "cell_type": "markdown",
   "metadata": {},
   "source": [
    "## Checking the accuracy of Naive Bayes"
   ]
  },
  {
   "cell_type": "code",
   "execution_count": 44,
   "metadata": {},
   "outputs": [
    {
     "data": {
      "text/plain": [
       "1324"
      ]
     },
     "execution_count": 44,
     "metadata": {},
     "output_type": "execute_result"
    }
   ],
   "source": [
    "sum(naive_bayes_results['results-on-positive'])\n"
   ]
  },
  {
   "cell_type": "code",
   "execution_count": 45,
   "metadata": {},
   "outputs": [
    {
     "data": {
      "text/plain": [
       "-1530"
      ]
     },
     "execution_count": 45,
     "metadata": {},
     "output_type": "execute_result"
    }
   ],
   "source": [
    "sum(naive_bayes_results['results-on-negative'])\n"
   ]
  },
  {
   "cell_type": "code",
   "execution_count": 47,
   "metadata": {},
   "outputs": [],
   "source": [
    "pos_reviews_results = naive_bayes_results['results-on-positive']\n",
    "\n",
    "pct_true_positives = sum(x>0 for x in pos_reviews_results)/len(pos_reviews_results)"
   ]
  },
  {
   "cell_type": "code",
   "execution_count": 48,
   "metadata": {},
   "outputs": [
    {
     "data": {
      "text/plain": [
       "0.7339222614840989"
      ]
     },
     "execution_count": 48,
     "metadata": {},
     "output_type": "execute_result"
    }
   ],
   "source": [
    "pct_true_positives"
   ]
  },
  {
   "cell_type": "code",
   "execution_count": 51,
   "metadata": {},
   "outputs": [],
   "source": [
    "neg_reviews_results = naive_bayes_results['results-on-negative']\n",
    "\n",
    "pct_true_negatives = sum(x>0 for x in neg_reviews_results)/len(neg_reviews_results)"
   ]
  },
  {
   "cell_type": "code",
   "execution_count": 52,
   "metadata": {},
   "outputs": [
    {
     "data": {
      "text/plain": [
       "0.22968197879858657"
      ]
     },
     "execution_count": 52,
     "metadata": {},
     "output_type": "execute_result"
    }
   ],
   "source": [
    "pct_true_negatives"
   ]
  },
  {
   "cell_type": "code",
   "execution_count": null,
   "metadata": {},
   "outputs": [],
   "source": []
  }
 ],
 "metadata": {
  "kernelspec": {
   "display_name": "Python 3",
   "language": "python",
   "name": "python3"
  },
  "language_info": {
   "codemirror_mode": {
    "name": "ipython",
    "version": 3
   },
   "file_extension": ".py",
   "mimetype": "text/x-python",
   "name": "python",
   "nbconvert_exporter": "python",
   "pygments_lexer": "ipython3",
   "version": "3.7.4"
  }
 },
 "nbformat": 4,
 "nbformat_minor": 2
}
